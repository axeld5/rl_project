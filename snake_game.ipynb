{
 "cells": [
  {
   "attachments": {},
   "cell_type": "markdown",
   "metadata": {},
   "source": [
    "# Generic Imports"
   ]
  },
  {
   "cell_type": "code",
   "execution_count": 1,
   "metadata": {},
   "outputs": [],
   "source": [
    "import tqdm\n",
    "import torch\n",
    "import torch.optim as optim\n",
    "import torch.nn as nn\n",
    "import matplotlib.pyplot as plt "
   ]
  },
  {
   "attachments": {},
   "cell_type": "markdown",
   "metadata": {},
   "source": [
    "# Setting Up the Environment"
   ]
  },
  {
   "cell_type": "code",
   "execution_count": 2,
   "metadata": {},
   "outputs": [],
   "source": [
    "from text_snake_simple import TextSnakeEnvSimple\n",
    "\n",
    "env = TextSnakeEnvSimple(screen_size=(15, 10), colab=True)    \n",
    "num_runs = 5\n",
    "x_list = range(num_runs+1)"
   ]
  },
  {
   "attachments": {},
   "cell_type": "markdown",
   "metadata": {},
   "source": [
    "# Running the Algorithms"
   ]
  },
  {
   "attachments": {},
   "cell_type": "markdown",
   "metadata": {},
   "source": [
    "## Expected Sarsa"
   ]
  },
  {
   "cell_type": "code",
   "execution_count": 3,
   "metadata": {},
   "outputs": [
    {
     "name": "stdout",
     "output_type": "stream",
     "text": [
      "Text Snake!\n",
      "Score: 22\n",
      "----------------\n",
      "[          \u001b[33m-\u001b[0m\u001b[33m-\u001b[0m\u001b[33m|\u001b[0m ]\n",
      "[            \u001b[33m|\u001b[0m ]\n",
      "[           \u001b[33m|\u001b[0m\u001b[33m-\u001b[0m ]\n",
      "[           \u001b[31m*\u001b[0m\u001b[33m-\u001b[0m\u001b[33m-\u001b[0m]\n",
      "[           \u001b[33m|\u001b[0m\u001b[33m-\u001b[0m\u001b[33m|\u001b[0m]\n",
      "[           \u001b[33m|\u001b[0m\u001b[33m|\u001b[0m\u001b[33m-\u001b[0m]\n",
      "[           \u001b[33m|\u001b[0m\u001b[33m-\u001b[0m\u001b[33m|\u001b[0m]\n",
      "[   \u001b[32m@\u001b[0m       \u001b[33m|\u001b[0m\u001b[33m|\u001b[0m\u001b[33m-\u001b[0m]\n",
      "[           \u001b[33m-\u001b[0m\u001b[33m-\u001b[0m\u001b[33m|\u001b[0m]\n",
      "^^^^^^^^^^^^^^^^\n",
      "Player Action (Straight)\n"
     ]
    },
    {
     "name": "stderr",
     "output_type": "stream",
     "text": [
      "100%|██████████| 500/500 [01:02<00:00,  8.02it/s]\n",
      "100%|██████████| 5/5 [01:08<00:00, 13.71s/it]\n"
     ]
    },
    {
     "data": {
      "image/png": "[encoded data removed]",
      "text/plain": [
       "<Figure size 640x480 with 1 Axes>"
      ]
     },
     "metadata": {},
     "output_type": "display_data"
    }
   ],
   "source": [
    "from exp_sarsa_functions.exp_sarsa_utils import create_state_dict, run_episode\n",
    "from exp_sarsa_functions.exp_sarsa_ag import ExpectedSarsaAgent\n",
    "\n",
    "state_dict = create_state_dict(n_bools=11)\n",
    "agent_info = {\"num_actions\": 3, \"num_states\": len(state_dict), \"EPS_START\": 0.9, \"EPS_END\": 0.05, \n",
    "            \"EPS_DECAY\": 5000, \"step_size\": 0.8, \"discount\": 0.99, \"seed\": 0}\n",
    "esarsa_agent = ExpectedSarsaAgent()\n",
    "esarsa_agent.agent_init(agent_info)\n",
    "esarsa_score_list = [0]\n",
    "num_episodes = 500\n",
    "for run in tqdm.tqdm(range(num_runs)):\n",
    "    steps_done = 0\n",
    "    for episode in tqdm.tqdm(range(num_episodes)):\n",
    "        if episode+1 == num_episodes and run+1 == num_runs: \n",
    "            steps_done, converged, score = run_episode(env, esarsa_agent, episode, state_dict, steps_done, False, True)\n",
    "            esarsa_score_list.append(score)\n",
    "        elif (episode+1)%500 == 0:\n",
    "            steps_done, converged, score = run_episode(env, esarsa_agent, episode, state_dict, steps_done, False, False)\n",
    "            esarsa_score_list.append(score)\n",
    "        else: \n",
    "            steps_done, converged, _ = run_episode(env, esarsa_agent, episode, state_dict, steps_done, True, False)\n",
    "plt.plot(x_list, esarsa_score_list)\n",
    "plt.show()"
   ]
  },
  {
   "attachments": {},
   "cell_type": "markdown",
   "metadata": {},
   "source": [
    "## DQN"
   ]
  },
  {
   "cell_type": "code",
   "execution_count": 4,
   "metadata": {},
   "outputs": [
    {
     "name": "stderr",
     "output_type": "stream",
     "text": [
      " 12%|█▏        | 59/500 [00:09<01:07,  6.49it/s]\n"
     ]
    },
    {
     "ename": "KeyboardInterrupt",
     "evalue": "",
     "output_type": "error",
     "traceback": [
      "\u001b[1;31m---------------------------------------------------------------------------\u001b[0m",
      "\u001b[1;31mKeyboardInterrupt\u001b[0m                         Traceback (most recent call last)",
      "\u001b[1;32mc:\\Users\\axeld\\Desktop\\coding\\rl_project\\snake_game.ipynb Cell 9\u001b[0m in \u001b[0;36m6\n\u001b[0;32m      <a href='vscode-notebook-cell:/c%3A/Users/axeld/Desktop/coding/rl_project/snake_game.ipynb#X11sZmlsZQ%3D%3D?line=3'>4</a>\u001b[0m dqn_score_list \u001b[39m=\u001b[39m [\u001b[39m0\u001b[39m]\n\u001b[0;32m      <a href='vscode-notebook-cell:/c%3A/Users/axeld/Desktop/coding/rl_project/snake_game.ipynb#X11sZmlsZQ%3D%3D?line=4'>5</a>\u001b[0m \u001b[39mfor\u001b[39;00m j \u001b[39min\u001b[39;00m \u001b[39mrange\u001b[39m(num_runs):\n\u001b[1;32m----> <a href='vscode-notebook-cell:/c%3A/Users/axeld/Desktop/coding/rl_project/snake_game.ipynb#X11sZmlsZQ%3D%3D?line=5'>6</a>\u001b[0m     qtrainer\u001b[39m.\u001b[39;49mtrain(env, \u001b[39m500\u001b[39;49m)\n\u001b[0;32m      <a href='vscode-notebook-cell:/c%3A/Users/axeld/Desktop/coding/rl_project/snake_game.ipynb#X11sZmlsZQ%3D%3D?line=6'>7</a>\u001b[0m     obs, info \u001b[39m=\u001b[39m env\u001b[39m.\u001b[39mreset()\n\u001b[0;32m      <a href='vscode-notebook-cell:/c%3A/Users/axeld/Desktop/coding/rl_project/snake_game.ipynb#X11sZmlsZQ%3D%3D?line=7'>8</a>\u001b[0m     done \u001b[39m=\u001b[39m \u001b[39mFalse\u001b[39;00m\n",
      "File \u001b[1;32mc:\\Users\\axeld\\Desktop\\coding\\rl_project\\dqn_functions\\dqn_trainer.py:79\u001b[0m, in \u001b[0;36mQTrainer.train\u001b[1;34m(self, env, n_episodes, epsilon_start, clone_model_freq, eps_decay, eps_min, add_every)\u001b[0m\n\u001b[0;32m     76\u001b[0m state_new, reward, done, _, info \u001b[39m=\u001b[39m env\u001b[39m.\u001b[39mstep(action)\n\u001b[0;32m     78\u001b[0m \u001b[39m# train short memory\u001b[39;00m\n\u001b[1;32m---> 79\u001b[0m \u001b[39mself\u001b[39;49m\u001b[39m.\u001b[39;49mtrain_short_memory(state_old, action, reward, state_new, done, prediction_model)\n\u001b[0;32m     81\u001b[0m \u001b[39m# remember\u001b[39;00m\n\u001b[0;32m     82\u001b[0m \u001b[39mself\u001b[39m\u001b[39m.\u001b[39mremember(state_old, action, reward, state_new, done)\n",
      "File \u001b[1;32mc:\\Users\\axeld\\Desktop\\coding\\rl_project\\dqn_functions\\dqn_trainer.py:25\u001b[0m, in \u001b[0;36mQTrainer.train_short_memory\u001b[1;34m(self, state, action, reward, next_state, done, prediction_model)\u001b[0m\n\u001b[0;32m     24\u001b[0m \u001b[39mdef\u001b[39;00m \u001b[39mtrain_short_memory\u001b[39m(\u001b[39mself\u001b[39m, state, action, reward, next_state, done, prediction_model):\n\u001b[1;32m---> 25\u001b[0m     \u001b[39mself\u001b[39;49m\u001b[39m.\u001b[39;49mtrain_step(state, action, reward, next_state, done, prediction_model)\n",
      "File \u001b[1;32mc:\\Users\\axeld\\Desktop\\coding\\rl_project\\dqn_functions\\dqn_trainer.py:132\u001b[0m, in \u001b[0;36mQTrainer.train_step\u001b[1;34m(self, state, action, reward, next_state, done, prediction_model)\u001b[0m\n\u001b[0;32m    130\u001b[0m \u001b[39mself\u001b[39m\u001b[39m.\u001b[39moptimizer\u001b[39m.\u001b[39mzero_grad()\n\u001b[0;32m    131\u001b[0m loss \u001b[39m=\u001b[39m \u001b[39mself\u001b[39m\u001b[39m.\u001b[39mcriterion(target, pred)\n\u001b[1;32m--> 132\u001b[0m loss\u001b[39m.\u001b[39;49mbackward()\n\u001b[0;32m    134\u001b[0m \u001b[39mself\u001b[39m\u001b[39m.\u001b[39moptimizer\u001b[39m.\u001b[39mstep()\n",
      "File \u001b[1;32mc:\\Users\\axeld\\AppData\\Local\\Programs\\Python\\Python310\\lib\\site-packages\\torch\\_tensor.py:487\u001b[0m, in \u001b[0;36mTensor.backward\u001b[1;34m(self, gradient, retain_graph, create_graph, inputs)\u001b[0m\n\u001b[0;32m    477\u001b[0m \u001b[39mif\u001b[39;00m has_torch_function_unary(\u001b[39mself\u001b[39m):\n\u001b[0;32m    478\u001b[0m     \u001b[39mreturn\u001b[39;00m handle_torch_function(\n\u001b[0;32m    479\u001b[0m         Tensor\u001b[39m.\u001b[39mbackward,\n\u001b[0;32m    480\u001b[0m         (\u001b[39mself\u001b[39m,),\n\u001b[1;32m   (...)\u001b[0m\n\u001b[0;32m    485\u001b[0m         inputs\u001b[39m=\u001b[39minputs,\n\u001b[0;32m    486\u001b[0m     )\n\u001b[1;32m--> 487\u001b[0m torch\u001b[39m.\u001b[39;49mautograd\u001b[39m.\u001b[39;49mbackward(\n\u001b[0;32m    488\u001b[0m     \u001b[39mself\u001b[39;49m, gradient, retain_graph, create_graph, inputs\u001b[39m=\u001b[39;49minputs\n\u001b[0;32m    489\u001b[0m )\n",
      "File \u001b[1;32mc:\\Users\\axeld\\AppData\\Local\\Programs\\Python\\Python310\\lib\\site-packages\\torch\\autograd\\__init__.py:200\u001b[0m, in \u001b[0;36mbackward\u001b[1;34m(tensors, grad_tensors, retain_graph, create_graph, grad_variables, inputs)\u001b[0m\n\u001b[0;32m    195\u001b[0m     retain_graph \u001b[39m=\u001b[39m create_graph\n\u001b[0;32m    197\u001b[0m \u001b[39m# The reason we repeat same the comment below is that\u001b[39;00m\n\u001b[0;32m    198\u001b[0m \u001b[39m# some Python versions print out the first line of a multi-line function\u001b[39;00m\n\u001b[0;32m    199\u001b[0m \u001b[39m# calls in the traceback and some print out the last line\u001b[39;00m\n\u001b[1;32m--> 200\u001b[0m Variable\u001b[39m.\u001b[39;49m_execution_engine\u001b[39m.\u001b[39;49mrun_backward(  \u001b[39m# Calls into the C++ engine to run the backward pass\u001b[39;49;00m\n\u001b[0;32m    201\u001b[0m     tensors, grad_tensors_, retain_graph, create_graph, inputs,\n\u001b[0;32m    202\u001b[0m     allow_unreachable\u001b[39m=\u001b[39;49m\u001b[39mTrue\u001b[39;49;00m, accumulate_grad\u001b[39m=\u001b[39;49m\u001b[39mTrue\u001b[39;49;00m)\n",
      "\u001b[1;31mKeyboardInterrupt\u001b[0m: "
     ]
    }
   ],
   "source": [
    "from dqn_functions.dqn_trainer import QTrainer\n",
    "\n",
    "qtrainer = QTrainer()\n",
    "dqn_score_list = [0]\n",
    "for j in range(num_runs):\n",
    "    qtrainer.train(env, 500)\n",
    "    obs, info = env.reset()\n",
    "    done = False\n",
    "    n_steps = 0\n",
    "    while not done and n_steps < 5000:\n",
    "        prediction = qtrainer.model(torch.tensor(obs, dtype=torch.float))\n",
    "        action = qtrainer.argmax(prediction).item()\n",
    "        obs, reward, done, _, info = env.step(action)\n",
    "        n_steps += 1\n",
    "        if j+1 == num_runs:\n",
    "            env.render() \n",
    "        if done:\n",
    "            break\n",
    "    dqn_score_list.append(info[\"score\"])\n",
    "    env.close()\n",
    "plt.plot(x_list, dqn_score_list)\n",
    "plt.show()"
   ]
  },
  {
   "attachments": {},
   "cell_type": "markdown",
   "metadata": {},
   "source": [
    "## Policy Estimator"
   ]
  },
  {
   "cell_type": "code",
   "execution_count": 5,
   "metadata": {},
   "outputs": [
    {
     "name": "stdout",
     "output_type": "stream",
     "text": [
      "Text Snake!\n",
      "Score: 0\n",
      "----------------\n",
      "[              ]\n",
      "[              ]\n",
      "[              ]\n",
      "[              ]\n",
      "[            \u001b[33m-\u001b[0m\u001b[33m-\u001b[0m\u001b[31m*\u001b[0m\n",
      "[              ]\n",
      "[              ]\n",
      "[          \u001b[32m@\u001b[0m   ]\n",
      "[              ]\n",
      "^^^^^^^^^^^^^^^^\n",
      "Player Action (Straight)\n"
     ]
    },
    {
     "data": {
      "image/png": "[encoded data removed]",
      "text/plain": [
       "<Figure size 640x480 with 1 Axes>"
      ]
     },
     "metadata": {},
     "output_type": "display_data"
    }
   ],
   "source": [
    "from policy_estimator_functions.policy_estimator import policy_estimator, reinforce, make_greedy_run\n",
    "\n",
    "state, info = env.reset()\n",
    "reinf_score_list = [0]\n",
    "neural_agent = policy_estimator(11, 3)    \n",
    "optimizer = optim.Adam(neural_agent.network.parameters(), lr=0.0001)\n",
    "render = False \n",
    "for j in tqdm.tqdm(num_runs): \n",
    "    num_episodes = 500\n",
    "    total_rewards, converged = reinforce(env, neural_agent, optimizer, num_episodes=num_episodes)\n",
    "    if j+1 == num_runs:\n",
    "        render = True\n",
    "    converged, score = make_greedy_run(env, neural_agent, render)\n",
    "    reinf_score_list.append(score)\n",
    "    env.close()\n",
    "plt.plot(x_list, reinf_score_list)\n",
    "plt.show()"
   ]
  },
  {
   "attachments": {},
   "cell_type": "markdown",
   "metadata": {},
   "source": [
    "## PPO"
   ]
  },
  {
   "cell_type": "code",
   "execution_count": 6,
   "metadata": {},
   "outputs": [
    {
     "data": {
      "application/vnd.jupyter.widget-view+json": {
       "model_id": "465a77e518014d6b9c39879cbc63588e",
       "version_major": 2,
       "version_minor": 0
      },
      "text/plain": [
       "Output()"
      ]
     },
     "metadata": {},
     "output_type": "display_data"
    },
    {
     "data": {
      "text/html": [
       "<pre style=\"white-space:pre;overflow-x:auto;line-height:normal;font-family:Menlo,'DejaVu Sans Mono',consolas,'Courier New',monospace\"></pre>\n"
      ],
      "text/plain": []
     },
     "metadata": {},
     "output_type": "display_data"
    },
    {
     "data": {
      "text/html": [
       "<pre style=\"white-space:pre;overflow-x:auto;line-height:normal;font-family:Menlo,'DejaVu Sans Mono',consolas,'Courier New',monospace\">\n",
       "</pre>\n"
      ],
      "text/plain": [
       "\n"
      ]
     },
     "metadata": {},
     "output_type": "display_data"
    },
    {
     "data": {
      "application/vnd.jupyter.widget-view+json": {
       "model_id": "1040a15dfd1148319341ab93a1278b8f",
       "version_major": 2,
       "version_minor": 0
      },
      "text/plain": [
       "Output()"
      ]
     },
     "metadata": {},
     "output_type": "display_data"
    }
   ],
   "source": [
    "from stable_baselines3 import PPO\n",
    "\n",
    "policy_kwargs = dict(activation_fn=nn.ReLU,\n",
    "                net_arch=dict(pi=[256, 256], vf=[256, 256]))\n",
    "model = PPO(\"MlpPolicy\", env, policy_kwargs=policy_kwargs, ent_coef=0.01)\n",
    "ppo_score_list = [0]\n",
    "for j in tqdm.tqdm(num_runs):\n",
    "    model.learn(total_timesteps=500)\n",
    "    vec_env = model.get_env() \n",
    "    obs = vec_env.reset()\n",
    "    done = False \n",
    "    n_step = 0\n",
    "    while not done and n_step < 5000: \n",
    "        action, _state = model.predict(obs, deterministic=True)\n",
    "        obs, reward, done, info = vec_env.step(action)\n",
    "        if j+1 == num_runs:\n",
    "            env.render()\n",
    "        n_step += 1\n",
    "        if done: \n",
    "            break\n",
    "    ppo_score_list.append(info[0][\"score\"])\n",
    "plt.plot(x_list, ppo_score_list)\n",
    "plt.show()"
   ]
  }
 ],
 "metadata": {
  "kernelspec": {
   "display_name": "Python 3",
   "language": "python",
   "name": "python3"
  },
  "language_info": {
   "codemirror_mode": {
    "name": "ipython",
    "version": 3
   },
   "file_extension": ".py",
   "mimetype": "text/x-python",
   "name": "python",
   "nbconvert_exporter": "python",
   "pygments_lexer": "ipython3",
   "version": "3.10.4"
  },
  "orig_nbformat": 4
 },
 "nbformat": 4,
 "nbformat_minor": 2
}
